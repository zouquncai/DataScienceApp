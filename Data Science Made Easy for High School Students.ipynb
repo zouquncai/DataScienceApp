{
 "cells": [
  {
   "cell_type": "code",
   "execution_count": 1,
   "id": "a543644a-6103-411b-8e1f-9abb19a85aad",
   "metadata": {},
   "outputs": [
    {
     "name": "stdout",
     "output_type": "stream",
     "text": [
      "Collecting streamlit_book\n",
      "  Obtaining dependency information for streamlit_book from https://files.pythonhosted.org/packages/75/89/62e252995cbef4d40068f6e2967f41bc9cb6c5f23b0b8ecd8bd3c28101e3/streamlit_book-0.7.6-py3-none-any.whl.metadata\n",
      "  Downloading streamlit_book-0.7.6-py3-none-any.whl.metadata (3.0 kB)\n",
      "Requirement already satisfied: streamlit in /Users/quncai.zou/anaconda3/lib/python3.11/site-packages (from streamlit_book) (1.29.0)\n",
      "Collecting streamlit-option-menu (from streamlit_book)\n",
      "  Obtaining dependency information for streamlit-option-menu from https://files.pythonhosted.org/packages/fd/52/2f525ad4262dc83d67297f69ec5afcee1438b9e9ae22aa318396725ddbed/streamlit_option_menu-0.4.0-py3-none-any.whl.metadata\n",
      "  Downloading streamlit_option_menu-0.4.0-py3-none-any.whl.metadata (2.5 kB)\n",
      "Requirement already satisfied: altair<6,>=4.0 in /Users/quncai.zou/anaconda3/lib/python3.11/site-packages (from streamlit->streamlit_book) (5.2.0)\n",
      "Requirement already satisfied: blinker<2,>=1.0.0 in /Users/quncai.zou/anaconda3/lib/python3.11/site-packages (from streamlit->streamlit_book) (1.7.0)\n",
      "Requirement already satisfied: cachetools<6,>=4.0 in /Users/quncai.zou/anaconda3/lib/python3.11/site-packages (from streamlit->streamlit_book) (5.3.2)\n",
      "Requirement already satisfied: click<9,>=7.0 in /Users/quncai.zou/anaconda3/lib/python3.11/site-packages (from streamlit->streamlit_book) (8.0.4)\n",
      "Requirement already satisfied: importlib-metadata<7,>=1.4 in /Users/quncai.zou/anaconda3/lib/python3.11/site-packages (from streamlit->streamlit_book) (6.0.0)\n",
      "Requirement already satisfied: numpy<2,>=1.19.3 in /Users/quncai.zou/anaconda3/lib/python3.11/site-packages (from streamlit->streamlit_book) (1.26.4)\n",
      "Requirement already satisfied: packaging<24,>=16.8 in /Users/quncai.zou/anaconda3/lib/python3.11/site-packages (from streamlit->streamlit_book) (23.1)\n",
      "Requirement already satisfied: pandas<3,>=1.3.0 in /Users/quncai.zou/anaconda3/lib/python3.11/site-packages (from streamlit->streamlit_book) (2.2.3)\n",
      "Requirement already satisfied: pillow<11,>=7.1.0 in /Users/quncai.zou/anaconda3/lib/python3.11/site-packages (from streamlit->streamlit_book) (10.0.1)\n",
      "Requirement already satisfied: protobuf<5,>=3.20 in /Users/quncai.zou/anaconda3/lib/python3.11/site-packages (from streamlit->streamlit_book) (4.25.1)\n",
      "Requirement already satisfied: pyarrow>=6.0 in /Users/quncai.zou/anaconda3/lib/python3.11/site-packages (from streamlit->streamlit_book) (11.0.0)\n",
      "Requirement already satisfied: python-dateutil<3,>=2.7.3 in /Users/quncai.zou/anaconda3/lib/python3.11/site-packages (from streamlit->streamlit_book) (2.8.2)\n",
      "Requirement already satisfied: requests<3,>=2.27 in /Users/quncai.zou/anaconda3/lib/python3.11/site-packages (from streamlit->streamlit_book) (2.31.0)\n",
      "Requirement already satisfied: rich<14,>=10.14.0 in /Users/quncai.zou/anaconda3/lib/python3.11/site-packages (from streamlit->streamlit_book) (13.7.0)\n",
      "Requirement already satisfied: tenacity<9,>=8.1.0 in /Users/quncai.zou/anaconda3/lib/python3.11/site-packages (from streamlit->streamlit_book) (8.2.2)\n",
      "Requirement already satisfied: toml<2,>=0.10.1 in /Users/quncai.zou/anaconda3/lib/python3.11/site-packages (from streamlit->streamlit_book) (0.10.2)\n",
      "Requirement already satisfied: typing-extensions<5,>=4.3.0 in /Users/quncai.zou/anaconda3/lib/python3.11/site-packages (from streamlit->streamlit_book) (4.11.0)\n",
      "Requirement already satisfied: tzlocal<6,>=1.1 in /Users/quncai.zou/anaconda3/lib/python3.11/site-packages (from streamlit->streamlit_book) (5.2)\n",
      "Requirement already satisfied: validators<1,>=0.2 in /Users/quncai.zou/anaconda3/lib/python3.11/site-packages (from streamlit->streamlit_book) (0.22.0)\n",
      "Requirement already satisfied: gitpython!=3.1.19,<4,>=3.0.7 in /Users/quncai.zou/anaconda3/lib/python3.11/site-packages (from streamlit->streamlit_book) (3.1.40)\n",
      "Requirement already satisfied: pydeck<1,>=0.8.0b4 in /Users/quncai.zou/anaconda3/lib/python3.11/site-packages (from streamlit->streamlit_book) (0.8.1b0)\n",
      "Requirement already satisfied: tornado<7,>=6.0.3 in /Users/quncai.zou/anaconda3/lib/python3.11/site-packages (from streamlit->streamlit_book) (6.3.2)\n",
      "Collecting streamlit (from streamlit_book)\n",
      "  Obtaining dependency information for streamlit from https://files.pythonhosted.org/packages/ef/e1/f9c479f9dbe0bb702ea5ca6608f10e91a708b438f7fb4572a2642718c6e3/streamlit-1.39.0-py2.py3-none-any.whl.metadata\n",
      "  Downloading streamlit-1.39.0-py2.py3-none-any.whl.metadata (8.5 kB)\n",
      "Requirement already satisfied: jinja2 in /Users/quncai.zou/anaconda3/lib/python3.11/site-packages (from altair<6,>=4.0->streamlit->streamlit_book) (3.1.2)\n",
      "Requirement already satisfied: jsonschema>=3.0 in /Users/quncai.zou/anaconda3/lib/python3.11/site-packages (from altair<6,>=4.0->streamlit->streamlit_book) (4.19.2)\n",
      "Requirement already satisfied: toolz in /Users/quncai.zou/anaconda3/lib/python3.11/site-packages (from altair<6,>=4.0->streamlit->streamlit_book) (0.12.0)\n",
      "Requirement already satisfied: gitdb<5,>=4.0.1 in /Users/quncai.zou/anaconda3/lib/python3.11/site-packages (from gitpython!=3.1.19,<4,>=3.0.7->streamlit->streamlit_book) (4.0.11)\n",
      "Requirement already satisfied: pytz>=2020.1 in /Users/quncai.zou/anaconda3/lib/python3.11/site-packages (from pandas<3,>=1.3.0->streamlit->streamlit_book) (2023.3.post1)\n",
      "Requirement already satisfied: tzdata>=2022.7 in /Users/quncai.zou/anaconda3/lib/python3.11/site-packages (from pandas<3,>=1.3.0->streamlit->streamlit_book) (2023.3)\n",
      "Requirement already satisfied: charset-normalizer<4,>=2 in /Users/quncai.zou/anaconda3/lib/python3.11/site-packages (from requests<3,>=2.27->streamlit->streamlit_book) (2.0.4)\n",
      "Requirement already satisfied: idna<4,>=2.5 in /Users/quncai.zou/anaconda3/lib/python3.11/site-packages (from requests<3,>=2.27->streamlit->streamlit_book) (3.4)\n",
      "Requirement already satisfied: urllib3<3,>=1.21.1 in /Users/quncai.zou/anaconda3/lib/python3.11/site-packages (from requests<3,>=2.27->streamlit->streamlit_book) (1.26.16)\n",
      "Requirement already satisfied: certifi>=2017.4.17 in /Users/quncai.zou/anaconda3/lib/python3.11/site-packages (from requests<3,>=2.27->streamlit->streamlit_book) (2024.8.30)\n",
      "Requirement already satisfied: markdown-it-py>=2.2.0 in /Users/quncai.zou/anaconda3/lib/python3.11/site-packages (from rich<14,>=10.14.0->streamlit->streamlit_book) (2.2.0)\n",
      "Requirement already satisfied: pygments<3.0.0,>=2.13.0 in /Users/quncai.zou/anaconda3/lib/python3.11/site-packages (from rich<14,>=10.14.0->streamlit->streamlit_book) (2.15.1)\n",
      "Requirement already satisfied: smmap<6,>=3.0.1 in /Users/quncai.zou/anaconda3/lib/python3.11/site-packages (from gitdb<5,>=4.0.1->gitpython!=3.1.19,<4,>=3.0.7->streamlit->streamlit_book) (5.0.1)\n",
      "Requirement already satisfied: MarkupSafe>=2.0 in /Users/quncai.zou/anaconda3/lib/python3.11/site-packages (from jinja2->altair<6,>=4.0->streamlit->streamlit_book) (2.1.1)\n",
      "Requirement already satisfied: attrs>=22.2.0 in /Users/quncai.zou/anaconda3/lib/python3.11/site-packages (from jsonschema>=3.0->altair<6,>=4.0->streamlit->streamlit_book) (23.1.0)\n",
      "Requirement already satisfied: jsonschema-specifications>=2023.03.6 in /Users/quncai.zou/anaconda3/lib/python3.11/site-packages (from jsonschema>=3.0->altair<6,>=4.0->streamlit->streamlit_book) (2023.7.1)\n",
      "Requirement already satisfied: referencing>=0.28.4 in /Users/quncai.zou/anaconda3/lib/python3.11/site-packages (from jsonschema>=3.0->altair<6,>=4.0->streamlit->streamlit_book) (0.30.2)\n",
      "Requirement already satisfied: rpds-py>=0.7.1 in /Users/quncai.zou/anaconda3/lib/python3.11/site-packages (from jsonschema>=3.0->altair<6,>=4.0->streamlit->streamlit_book) (0.10.6)\n",
      "Requirement already satisfied: mdurl~=0.1 in /Users/quncai.zou/anaconda3/lib/python3.11/site-packages (from markdown-it-py>=2.2.0->rich<14,>=10.14.0->streamlit->streamlit_book) (0.1.0)\n",
      "Requirement already satisfied: six>=1.5 in /Users/quncai.zou/anaconda3/lib/python3.11/site-packages (from python-dateutil<3,>=2.7.3->streamlit->streamlit_book) (1.16.0)\n",
      "Requirement already satisfied: zipp>=0.5 in /Users/quncai.zou/anaconda3/lib/python3.11/site-packages (from importlib-metadata<7,>=1.4->streamlit->streamlit_book) (3.11.0)\n",
      "Downloading streamlit_book-0.7.6-py3-none-any.whl (28 kB)\n",
      "Downloading streamlit_option_menu-0.4.0-py3-none-any.whl (829 kB)\n",
      "\u001b[2K   \u001b[90m━━━━━━━━━━━━━━━━━━━━━━━━━━━━━━━━━━━━━━━━\u001b[0m \u001b[32m829.3/829.3 kB\u001b[0m \u001b[31m12.6 MB/s\u001b[0m eta \u001b[36m0:00:00\u001b[0ma \u001b[36m0:00:01\u001b[0m\n",
      "\u001b[?25hDownloading streamlit-1.39.0-py2.py3-none-any.whl (8.7 MB)\n",
      "\u001b[2K   \u001b[90m━━━━━━━━━━━━━━━━━━━━━━━━━━━━━━━━━━━━━━━━\u001b[0m \u001b[32m8.7/8.7 MB\u001b[0m \u001b[31m60.3 MB/s\u001b[0m eta \u001b[36m0:00:00\u001b[0m00:01\u001b[0m00:01\u001b[0m\n",
      "\u001b[?25hInstalling collected packages: streamlit, streamlit-option-menu, streamlit_book\n",
      "  Attempting uninstall: streamlit\n",
      "    Found existing installation: streamlit 1.29.0\n",
      "    Uninstalling streamlit-1.29.0:\n",
      "      Successfully uninstalled streamlit-1.29.0\n",
      "Successfully installed streamlit-1.39.0 streamlit-option-menu-0.4.0 streamlit_book-0.7.6\n",
      "Note: you may need to restart the kernel to use updated packages.\n"
     ]
    }
   ],
   "source": [
    "pip install streamlit_book"
   ]
  },
  {
   "cell_type": "code",
   "execution_count": 3,
   "id": "4582ead5-b4bc-42c0-a420-fd74870a49ea",
   "metadata": {},
   "outputs": [],
   "source": [
    "import streamlit as st\n",
    "import streamlit_book as stb"
   ]
  },
  {
   "cell_type": "code",
   "execution_count": 27,
   "id": "aacd4a60-3a6b-49e1-bbbe-934bc63ddcb8",
   "metadata": {},
   "outputs": [
    {
     "name": "stderr",
     "output_type": "stream",
     "text": [
      "2024-10-16 16:11:43.265 Thread 'MainThread': missing ScriptRunContext! This warning can be ignored when running in bare mode.\n",
      "2024-10-16 16:11:43.271 Thread 'MainThread': missing ScriptRunContext! This warning can be ignored when running in bare mode.\n",
      "2024-10-16 16:11:43.280 Thread 'MainThread': missing ScriptRunContext! This warning can be ignored when running in bare mode.\n",
      "2024-10-16 16:11:43.324 Thread 'MainThread': missing ScriptRunContext! This warning can be ignored when running in bare mode.\n",
      "2024-10-16 16:11:43.327 Thread 'MainThread': missing ScriptRunContext! This warning can be ignored when running in bare mode.\n",
      "2024-10-16 16:11:43.334 Thread 'MainThread': missing ScriptRunContext! This warning can be ignored when running in bare mode.\n",
      "2024-10-16 16:11:43.379 Thread 'MainThread': missing ScriptRunContext! This warning can be ignored when running in bare mode.\n",
      "2024-10-16 16:11:43.385 Thread 'MainThread': missing ScriptRunContext! This warning can be ignored when running in bare mode.\n",
      "2024-10-16 16:11:43.386 Thread 'MainThread': missing ScriptRunContext! This warning can be ignored when running in bare mode.\n",
      "2024-10-16 16:11:43.386 Thread 'MainThread': missing ScriptRunContext! This warning can be ignored when running in bare mode.\n"
     ]
    },
    {
     "ename": "NameError",
     "evalue": "name 'get_query_params' is not defined",
     "output_type": "error",
     "traceback": [
      "\u001b[0;31m---------------------------------------------------------------------------\u001b[0m",
      "\u001b[0;31mNameError\u001b[0m                                 Traceback (most recent call last)",
      "Cell \u001b[0;32mIn[27], line 7\u001b[0m\n\u001b[1;32m      1\u001b[0m \u001b[38;5;66;03m# Streamlit webpage properties\u001b[39;00m\n\u001b[1;32m      2\u001b[0m st\u001b[38;5;241m.\u001b[39mset_page_config(\n\u001b[1;32m      3\u001b[0m     page_title\u001b[38;5;241m=\u001b[39m\u001b[38;5;124m\"\u001b[39m\u001b[38;5;124mData Science Made Easy for High School Students\u001b[39m\u001b[38;5;124m\"\u001b[39m,\n\u001b[1;32m      4\u001b[0m     page_icon\u001b[38;5;241m=\u001b[39m\u001b[38;5;124m\"\u001b[39m\u001b[38;5;124m📚\u001b[39m\u001b[38;5;124m\"\u001b[39m,\n\u001b[1;32m      5\u001b[0m )\n\u001b[0;32m----> 7\u001b[0m stb\u001b[38;5;241m.\u001b[39mset_book_config(\n\u001b[1;32m      8\u001b[0m                      menu_title\u001b[38;5;241m=\u001b[39m\u001b[38;5;124m\"\u001b[39m\u001b[38;5;124mData Science Made Easy for Teens\u001b[39m\u001b[38;5;124m\"\u001b[39m,\n\u001b[1;32m      9\u001b[0m                      menu_icon\u001b[38;5;241m=\u001b[39m\u001b[38;5;124m\"\u001b[39m\u001b[38;5;124mlightbulb\u001b[39m\u001b[38;5;124m\"\u001b[39m,\n\u001b[1;32m     10\u001b[0m                      options\u001b[38;5;241m=\u001b[39m[\n\u001b[1;32m     11\u001b[0m                             \u001b[38;5;124m\"\u001b[39m\u001b[38;5;124mWhat is Data Science?\u001b[39m\u001b[38;5;124m\"\u001b[39m,\n\u001b[1;32m     12\u001b[0m                             \u001b[38;5;124m\"\u001b[39m\u001b[38;5;124mdataframe demo\u001b[39m\u001b[38;5;124m\"\u001b[39m,\n\u001b[1;32m     13\u001b[0m                             \u001b[38;5;124m\"\u001b[39m\u001b[38;5;124mmap demo\u001b[39m\u001b[38;5;124m\"\u001b[39m,\n\u001b[1;32m     14\u001b[0m                             \u001b[38;5;124m\"\u001b[39m\u001b[38;5;124mplotting demo\u001b[39m\u001b[38;5;124m\"\u001b[39m,\n\u001b[1;32m     15\u001b[0m                             ], \n\u001b[1;32m     16\u001b[0m                      paths\u001b[38;5;241m=\u001b[39m[\n\u001b[1;32m     17\u001b[0m                             \u001b[38;5;124m\"\u001b[39m\u001b[38;5;124mpages/intro\u001b[39m\u001b[38;5;124m\"\u001b[39m, \n\u001b[1;32m     18\u001b[0m                             \u001b[38;5;124m\"\u001b[39m\u001b[38;5;124mpages/dataframe demo.py\u001b[39m\u001b[38;5;124m\"\u001b[39m, \n\u001b[1;32m     19\u001b[0m                             \u001b[38;5;124m\"\u001b[39m\u001b[38;5;124mpages/map demo.py\u001b[39m\u001b[38;5;124m\"\u001b[39m,\n\u001b[1;32m     20\u001b[0m                             \u001b[38;5;124m\"\u001b[39m\u001b[38;5;124mpages/Plotting demo.py\u001b[39m\u001b[38;5;124m\"\u001b[39m,\n\u001b[1;32m     21\u001b[0m                             ],\n\u001b[1;32m     22\u001b[0m                      icons\u001b[38;5;241m=\u001b[39m[\n\u001b[1;32m     23\u001b[0m                             \u001b[38;5;124m\"\u001b[39m\u001b[38;5;124m\"\u001b[39m,\n\u001b[1;32m     24\u001b[0m                             \u001b[38;5;124m\"\u001b[39m\u001b[38;5;124mpaint-bucket\u001b[39m\u001b[38;5;124m\"\u001b[39m,\n\u001b[1;32m     25\u001b[0m                             \u001b[38;5;124m\"\u001b[39m\u001b[38;5;124msignpost-2\u001b[39m\u001b[38;5;124m\"\u001b[39m,\n\u001b[1;32m     26\u001b[0m                             \u001b[38;5;124m\"\u001b[39m\u001b[38;5;124mui-radios\u001b[39m\u001b[38;5;124m\"\u001b[39m,\n\u001b[1;32m     27\u001b[0m                             ],\n\u001b[1;32m     28\u001b[0m                      )\n\u001b[1;32m     30\u001b[0m st\u001b[38;5;241m.\u001b[39mwrite(\u001b[38;5;124m\"\u001b[39m\u001b[38;5;124m# Welcome to Data Science for Teens! 👋\u001b[39m\u001b[38;5;124m\"\u001b[39m)\n\u001b[1;32m     32\u001b[0m st\u001b[38;5;241m.\u001b[39msidebar\u001b[38;5;241m.\u001b[39msuccess(\u001b[38;5;124m\"\u001b[39m\u001b[38;5;124mSelect a demo above.\u001b[39m\u001b[38;5;124m\"\u001b[39m)\n",
      "File \u001b[0;32m~/anaconda3/lib/python3.11/site-packages/streamlit_book/book_config.py:93\u001b[0m, in \u001b[0;36mset_book_config\u001b[0;34m(options, paths, menu_title, menu_icon, icons, orientation, styles, save_answers, display_page_info)\u001b[0m\n\u001b[1;32m     90\u001b[0m     st\u001b[38;5;241m.\u001b[39msession_state\u001b[38;5;241m.\u001b[39mpage_number \u001b[38;5;241m=\u001b[39m \u001b[38;5;241m0\u001b[39m\n\u001b[1;32m     92\u001b[0m \u001b[38;5;66;03m# Launch the corresponding chapter\u001b[39;00m\n\u001b[0;32m---> 93\u001b[0m set_chapter_config(path\u001b[38;5;241m=\u001b[39mpaths[selected_book_number], save_answers\u001b[38;5;241m=\u001b[39msave_answers, display_page_info\u001b[38;5;241m=\u001b[39mdisplay_page_info)\n",
      "File \u001b[0;32m~/anaconda3/lib/python3.11/site-packages/streamlit_book/chapter_config.py:94\u001b[0m, in \u001b[0;36mset_chapter_config\u001b[0;34m(path, toc, button, button_previous, button_next, button_refresh, on_load_header, on_load_footer, save_answers, display_page_info)\u001b[0m\n\u001b[1;32m     90\u001b[0m     st\u001b[38;5;241m.\u001b[39msession_state\u001b[38;5;241m.\u001b[39mcommit_hash \u001b[38;5;241m=\u001b[39m  get_git_revision_short_hash()\n\u001b[1;32m     92\u001b[0m \u001b[38;5;66;03m# Admin Login: if requested by the user on the url, it redirects to a specific amin page\u001b[39;00m\n\u001b[1;32m     93\u001b[0m \u001b[38;5;66;03m# Never shows the content, it will stay on the admin page.\u001b[39;00m\n\u001b[0;32m---> 94\u001b[0m query_params \u001b[38;5;241m=\u001b[39m get_query_params()\n\u001b[1;32m     95\u001b[0m \u001b[38;5;28;01mif\u001b[39;00m \u001b[38;5;124m\"\u001b[39m\u001b[38;5;124muser\u001b[39m\u001b[38;5;124m\"\u001b[39m \u001b[38;5;129;01min\u001b[39;00m query_params \u001b[38;5;129;01mand\u001b[39;00m \u001b[38;5;124m\"\u001b[39m\u001b[38;5;124madmin\u001b[39m\u001b[38;5;124m\"\u001b[39m \u001b[38;5;129;01min\u001b[39;00m query_params[\u001b[38;5;124m\"\u001b[39m\u001b[38;5;124muser\u001b[39m\u001b[38;5;124m\"\u001b[39m]:\n\u001b[1;32m     96\u001b[0m     \u001b[38;5;66;03m# Here we handle everything related to the admin\u001b[39;00m\n\u001b[1;32m     97\u001b[0m     admin_page()\n",
      "\u001b[0;31mNameError\u001b[0m: name 'get_query_params' is not defined"
     ]
    }
   ],
   "source": [
    "# Streamlit webpage properties\n",
    "st.set_page_config(\n",
    "    page_title=\"Data Science Made Easy for High School Students\",\n",
    "    page_icon=\"📚\",\n",
    ")\n",
    "\n",
    "\n",
    "st.write(\"# Welcome to Data Science for Teens! 👋\")\n",
    "\n",
    "st.sidebar.success(\"Select a demo above.\")\n",
    "\n",
    "\n",
    "st.markdown(\n",
    "    \"\"\"\n",
    "    ### Hey there! \n",
    "    ### Have you ever wondered how Spotify seems to know exactly what you like? \n",
    "\"\"\"\n",
    ")\n",
    "st.markdown(\n",
    "    \"\"\"\n",
    "    ### Hey there! \n",
    "    ### Have you ever wondered how Spotify seems to know exactly what you like? \n",
    "\"\"\"\n",
    ")\n",
    "st.image(\"spotify.png\")\n",
    "st.markdown(\n",
    "    \"\"\"\n",
    "    ## Or how sports teams figure out the best strategies to win?\n",
    "\"\"\"\n",
    ")\n",
    "st.image(\"sports.png\")\n",
    "\n",
    "st.markdown(\n",
    "    \"\"\"\n",
    "    ## That’s where data science comes in!\n",
    "\"\"\"\n",
    ")\n",
    "\n",
    "\n"
   ]
  },
  {
   "cell_type": "code",
   "execution_count": null,
   "id": "4bfcc77c-e6c3-4b38-8056-f9d73c1319bd",
   "metadata": {},
   "outputs": [],
   "source": [
    "st.markdown(\n",
    "    \"\"\"\n",
    "    Hey there! \n",
    "    Have you ever wondered how Spotify seems to know exactly what you like?\n",
    "Or how sports teams figure out the best strategies to win? \n",
    "    **👈 Select a demo from the sidebar** to see some examples\n",
    "    of what Streamlit can do!\n",
    "    ### Want to learn more?\n",
    "    - Check out [streamlit.io](https://streamlit.io)\n",
    "    - Jump into our [documentation](https://docs.streamlit.io)\n",
    "    - Ask a question in our [community\n",
    "        forums](https://discuss.streamlit.io)\n",
    "    ### See more complex demos\n",
    "    - Use a neural net to [analyze the Udacity Self-driving Car Image\n",
    "        Dataset](https://github.com/streamlit/demo-self-driving)\n",
    "    - Explore a [New York City rideshare dataset](https://github.com/streamlit/demo-uber-nyc-pickups)\n",
    "\"\"\"\n",
    ")"
   ]
  },
  {
   "cell_type": "code",
   "execution_count": null,
   "id": "1ae8fe3c-1aa5-4346-8c72-780e4617967c",
   "metadata": {},
   "outputs": [],
   "source": [
    "Hey there! \n",
    "Have you ever wondered how Spotify seems to know exactly what you like?\n",
    "Or how sports teams figure out the best strategies to win? \n",
    "\n",
    "That’s where data science comes in!\n"
   ]
  }
 ],
 "metadata": {
  "kernelspec": {
   "display_name": "Python 3 (ipykernel)",
   "language": "python",
   "name": "python3"
  },
  "language_info": {
   "codemirror_mode": {
    "name": "ipython",
    "version": 3
   },
   "file_extension": ".py",
   "mimetype": "text/x-python",
   "name": "python",
   "nbconvert_exporter": "python",
   "pygments_lexer": "ipython3",
   "version": "3.11.5"
  }
 },
 "nbformat": 4,
 "nbformat_minor": 5
}
