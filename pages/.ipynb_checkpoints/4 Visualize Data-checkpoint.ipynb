{
 "cells": [
  {
   "cell_type": "code",
   "execution_count": 28,
   "id": "e706b7c6-908b-4b12-8e2f-fd7a2797a9d0",
   "metadata": {},
   "outputs": [
    {
     "name": "stderr",
     "output_type": "stream",
     "text": [
      "2024-10-17 22:37:17.277 Thread 'MainThread': missing ScriptRunContext! This warning can be ignored when running in bare mode.\n",
      "2024-10-17 22:37:17.283 Thread 'MainThread': missing ScriptRunContext! This warning can be ignored when running in bare mode.\n",
      "2024-10-17 22:37:17.285 Thread 'MainThread': missing ScriptRunContext! This warning can be ignored when running in bare mode.\n",
      "2024-10-17 22:37:17.286 Thread 'MainThread': missing ScriptRunContext! This warning can be ignored when running in bare mode.\n",
      "2024-10-17 22:37:17.286 Thread 'MainThread': missing ScriptRunContext! This warning can be ignored when running in bare mode.\n",
      "2024-10-17 22:37:17.288 Thread 'MainThread': missing ScriptRunContext! This warning can be ignored when running in bare mode.\n",
      "2024-10-17 22:37:17.289 Thread 'MainThread': missing ScriptRunContext! This warning can be ignored when running in bare mode.\n",
      "2024-10-17 22:37:17.289 Thread 'MainThread': missing ScriptRunContext! This warning can be ignored when running in bare mode.\n",
      "2024-10-17 22:37:17.290 Thread 'MainThread': missing ScriptRunContext! This warning can be ignored when running in bare mode.\n",
      "2024-10-17 22:37:17.290 No runtime found, using MemoryCacheStorageManager\n",
      "2024-10-17 22:37:17.292 Thread 'MainThread': missing ScriptRunContext! This warning can be ignored when running in bare mode.\n",
      "2024-10-17 22:37:17.293 Thread 'MainThread': missing ScriptRunContext! This warning can be ignored when running in bare mode.\n",
      "2024-10-17 22:37:17.294 Thread 'MainThread': missing ScriptRunContext! This warning can be ignored when running in bare mode.\n",
      "2024-10-17 22:37:17.316 Thread 'MainThread': missing ScriptRunContext! This warning can be ignored when running in bare mode.\n",
      "2024-10-17 22:37:17.317 Thread 'MainThread': missing ScriptRunContext! This warning can be ignored when running in bare mode.\n",
      "2024-10-17 22:37:17.367 Thread 'MainThread': missing ScriptRunContext! This warning can be ignored when running in bare mode.\n",
      "2024-10-17 22:37:17.368 Thread 'MainThread': missing ScriptRunContext! This warning can be ignored when running in bare mode.\n"
     ]
    }
   ],
   "source": [
    "import streamlit as st\n",
    "import pandas as pd\n",
    "import altair as alt\n",
    "from urllib.error import URLError\n",
    "\n",
    "st.set_page_config(page_title=\"Visualize Data\", page_icon=\"📊\")\n",
    "\n",
    "st.markdown(\"#🔍 Visualize Data\")\n",
    "st.sidebar.header(\"🔍Visualize Data\")\n",
    "st.write(\n",
    "    \"\"\"This demo shows how to use `st.write` to visualize Pandas DataFrames.\n",
    "(Data courtesy of the [UN Data Explorer](http://data.un.org/Explorer.aspx).)\"\"\"\n",
    ")\n",
    "\n",
    "\n",
    "@st.cache_data\n",
    "def get_UN_data():\n",
    "    # AWS_BUCKET_URL = \"http://streamlit-demo-data.s3-us-west-2.amazonaws.com\"\n",
    "    # df = pd.read_csv(AWS_BUCKET_URL + \"/agri.csv.gz\")\n",
    "    df = pd.read_csv(\"cars2020.csv\", encoding = 'ISO-8859-1')\n",
    "    return df\n",
    "    # return df.set_index(\"Drive\")\n",
    "\n",
    "\n",
    "try:\n",
    "    df = get_UN_data()\n",
    "    # drive = st.multiselect(\n",
    "    #     \"Choose Type of Drive\", list(df.index), [\"2-Wheel Drive, Front\"]\n",
    "    # )\n",
    "    st.write(df.head(n = 10))\n",
    "    # if not models:\n",
    "    #     st.error(\"Please select at least one country.\")\n",
    "    # else:\n",
    "    #     # data = df.loc[models]\n",
    "    #     # data /= 1000000.0\n",
    "    #     st.write(\"### Gross Agricultural Production ($B)\", df)\n",
    "\n",
    "        # data = data.T.reset_index()\n",
    "        # data = pd.melt(data, id_vars=[\"index\"]).rename(\n",
    "        #     columns={\"index\": \"year\", \"value\": \"Gross Agricultural Product ($B)\"}\n",
    "        # )\n",
    "        # chart = (\n",
    "        #     alt.Chart(data)\n",
    "        #     .mark_area(opacity=0.3)\n",
    "        #     .encode(\n",
    "        #         x=\"year:T\",\n",
    "        #         y=alt.Y(\"Gross Agricultural Product ($B):Q\", stack=None),\n",
    "        #         color=\"Region:N\",\n",
    "        #     )\n",
    "        # )\n",
    "        # st.altair_chart(chart, use_container_width=True)\n",
    "except URLError as e:\n",
    "    st.error(\n",
    "        \"\"\"\n",
    "        **This demo requires internet access.**\n",
    "        Connection error: %s\n",
    "    \"\"\"\n",
    "        % e.reason\n",
    "    )\n"
   ]
  },
  {
   "cell_type": "code",
   "execution_count": null,
   "id": "a8e87ebf-167d-4323-86ab-00cb9865010b",
   "metadata": {},
   "outputs": [],
   "source": []
  },
  {
   "cell_type": "code",
   "execution_count": null,
   "id": "e3ec8385-12ff-427c-9a11-1fcd1d36445f",
   "metadata": {},
   "outputs": [],
   "source": []
  }
 ],
 "metadata": {
  "kernelspec": {
   "display_name": "Python 3 (ipykernel)",
   "language": "python",
   "name": "python3"
  },
  "language_info": {
   "codemirror_mode": {
    "name": "ipython",
    "version": 3
   },
   "file_extension": ".py",
   "mimetype": "text/x-python",
   "name": "python",
   "nbconvert_exporter": "python",
   "pygments_lexer": "ipython3",
   "version": "3.11.5"
  }
 },
 "nbformat": 4,
 "nbformat_minor": 5
}
