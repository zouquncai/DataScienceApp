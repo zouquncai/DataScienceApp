{
 "cells": [
  {
   "cell_type": "code",
   "execution_count": null,
   "id": "5963e13a-c27a-4065-bd37-7149c26e990f",
   "metadata": {},
   "outputs": [],
   "source": [
    "import streamlit as st\n",
    "st.markdown(\"# Why Data Science Matters?\")\n",
    "st.sidebar.header(\"Why Data Science Matters?\")\n",
    "\n",
    "st.image(\"why ds matters.png\")\n",
    "\n",
    "\n",
    "st.markdown(\n",
    "    \"\"\"\n",
    "    Our generation is facing enormous amount of data. The blessing and curse of this world is that we have tons of data, \n",
    "    but not enough insight, and not enough people who care about extracting that insight. \n",
    "\"\"\"\n",
    ")\n",
    "\n",
    "st.markdown(\n",
    "    \"\"\"\n",
    "    **Data can exist in different formats.**\n",
    "\n",
    "    - Data may looks like a table in a relational database. We call this type of data *structured* since it follows a fixed format: \n",
    "    a row represents an **observation** and a column represents a **variable** or **feature**.\n",
    "\"\"\"\n",
    ")\n",
    "st.image(\"Car_Fuel_Efficiency.png\")\n",
    "\n",
    "st.markdown(\n",
    "    \"\"\"\n",
    "    - In contrast, the text data below is considered as *unstructured* since it doesn't follow a fixed format.\n",
    "\"\"\"\n",
    ")\n",
    "st.image(\"text data.png\")\n",
    "\n",
    "st.markdown(\n",
    "    \"\"\"\n",
    "    - In some cases, data scientists will work with image, video or audio data.\n",
    "\"\"\"\n",
    ")\n",
    "st.image(\"image data.png\")\n",
    "\n",
    "st.markdown(\n",
    "    \"\"\"\n",
    "    And that’s what data scientists do: \n",
    "    **they extract meaning from data. They help us understand the world and discover new things**.\n",
    "\"\"\"\n",
    ")\n",
    "\n",
    "st.markdown(\n",
    "    \"\"\"\n",
    "    ## Data Scientists extract meaning from data. They help us understand the world and discover new things.\n",
    "\"\"\"\n",
    ")\n",
    "\n"
   ]
  }
 ],
 "metadata": {
  "kernelspec": {
   "display_name": "Python 3 (ipykernel)",
   "language": "python",
   "name": "python3"
  },
  "language_info": {
   "codemirror_mode": {
    "name": "ipython",
    "version": 3
   },
   "file_extension": ".py",
   "mimetype": "text/x-python",
   "name": "python",
   "nbconvert_exporter": "python",
   "pygments_lexer": "ipython3",
   "version": "3.11.5"
  }
 },
 "nbformat": 4,
 "nbformat_minor": 5
}
