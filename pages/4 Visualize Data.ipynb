{
 "cells": [
  {
   "cell_type": "code",
   "execution_count": 40,
   "id": "e706b7c6-908b-4b12-8e2f-fd7a2797a9d0",
   "metadata": {},
   "outputs": [
    {
     "name": "stderr",
     "output_type": "stream",
     "text": [
      "2024-10-17 22:42:30.973 Thread 'MainThread': missing ScriptRunContext! This warning can be ignored when running in bare mode.\n",
      "2024-10-17 22:42:30.975 Thread 'MainThread': missing ScriptRunContext! This warning can be ignored when running in bare mode.\n",
      "2024-10-17 22:42:30.976 Thread 'MainThread': missing ScriptRunContext! This warning can be ignored when running in bare mode.\n",
      "2024-10-17 22:42:30.977 Thread 'MainThread': missing ScriptRunContext! This warning can be ignored when running in bare mode.\n",
      "2024-10-17 22:42:30.978 Thread 'MainThread': missing ScriptRunContext! This warning can be ignored when running in bare mode.\n",
      "2024-10-17 22:42:30.979 Thread 'MainThread': missing ScriptRunContext! This warning can be ignored when running in bare mode.\n",
      "2024-10-17 22:42:30.981 Thread 'MainThread': missing ScriptRunContext! This warning can be ignored when running in bare mode.\n",
      "2024-10-17 22:42:30.982 Thread 'MainThread': missing ScriptRunContext! This warning can be ignored when running in bare mode.\n",
      "2024-10-17 22:42:30.982 Thread 'MainThread': missing ScriptRunContext! This warning can be ignored when running in bare mode.\n",
      "2024-10-17 22:42:30.985 No runtime found, using MemoryCacheStorageManager\n",
      "2024-10-17 22:42:30.992 Thread 'MainThread': missing ScriptRunContext! This warning can be ignored when running in bare mode.\n",
      "2024-10-17 22:42:30.995 Thread 'MainThread': missing ScriptRunContext! This warning can be ignored when running in bare mode.\n",
      "2024-10-17 22:42:30.999 Thread 'MainThread': missing ScriptRunContext! This warning can be ignored when running in bare mode.\n",
      "2024-10-17 22:42:31.006 Thread 'MainThread': missing ScriptRunContext! This warning can be ignored when running in bare mode.\n",
      "2024-10-17 22:42:31.007 Thread 'MainThread': missing ScriptRunContext! This warning can be ignored when running in bare mode.\n",
      "2024-10-17 22:42:31.009 Thread 'MainThread': missing ScriptRunContext! This warning can be ignored when running in bare mode.\n",
      "2024-10-17 22:42:31.012 Thread 'MainThread': missing ScriptRunContext! This warning can be ignored when running in bare mode.\n",
      "2024-10-17 22:42:31.013 Thread 'MainThread': missing ScriptRunContext! This warning can be ignored when running in bare mode.\n",
      "2024-10-17 22:42:31.013 Thread 'MainThread': missing ScriptRunContext! This warning can be ignored when running in bare mode.\n",
      "2024-10-17 22:42:31.014 Thread 'MainThread': missing ScriptRunContext! This warning can be ignored when running in bare mode.\n",
      "2024-10-17 22:42:31.014 Thread 'MainThread': missing ScriptRunContext! This warning can be ignored when running in bare mode.\n",
      "2024-10-17 22:42:31.019 Thread 'MainThread': missing ScriptRunContext! This warning can be ignored when running in bare mode.\n",
      "2024-10-17 22:42:31.021 Thread 'MainThread': missing ScriptRunContext! This warning can be ignored when running in bare mode.\n"
     ]
    }
   ],
   "source": [
    "import streamlit as st\n",
    "import pandas as pd\n",
    "import altair as alt\n",
    "from urllib.error import URLError\n",
    "\n",
    "st.set_page_config(page_title=\"Visualize Data\", page_icon=\"📊\")\n",
    "\n",
    "st.markdown(\"#🔍 Visualize Data\")\n",
    "st.sidebar.header(\"🔍Visualize Data\")\n",
    "st.write(\n",
    "    \"\"\"This demo shows how to use `st.write` to visualize Pandas DataFrames.\n",
    "(Data courtesy of the [UN Data Explorer](http://data.un.org/Explorer.aspx).)\"\"\"\n",
    ")\n",
    "\n",
    "\n",
    "@st.cache_data\n",
    "def get_UN_data():\n",
    "    # AWS_BUCKET_URL = \"http://streamlit-demo-data.s3-us-west-2.amazonaws.com\"\n",
    "    # df = pd.read_csv(AWS_BUCKET_URL + \"/agri.csv.gz\")\n",
    "    df = pd.read_csv(\"cars2020.csv\", encoding = 'ISO-8859-1')\n",
    "    return df\n",
    "    # return df.set_index(\"Drive\")\n",
    "\n",
    "\n",
    "try:\n",
    "    df = get_UN_data()\n",
    "    n_row = st.text_input(\"How many rows you would like to view the data?\")\n",
    "    st.write(df.head(n = 10))\n",
    "    # if not models:\n",
    "    #     st.error(\"Please select at least one country.\")\n",
    "    # else:\n",
    "    #     # data = df.loc[models]\n",
    "    #     # data /= 1000000.0\n",
    "    #     st.write(\"### Gross Agricultural Production ($B)\", df)\n",
    "\n",
    "        # data = data.T.reset_index()\n",
    "        # data = pd.melt(data, id_vars=[\"index\"]).rename(\n",
    "        #     columns={\"index\": \"year\", \"value\": \"Gross Agricultural Product ($B)\"}\n",
    "        # )\n",
    "        # chart = (\n",
    "        #     alt.Chart(data)\n",
    "        #     .mark_area(opacity=0.3)\n",
    "        #     .encode(\n",
    "        #         x=\"year:T\",\n",
    "        #         y=alt.Y(\"Gross Agricultural Product ($B):Q\", stack=None),\n",
    "        #         color=\"Region:N\",\n",
    "        #     )\n",
    "        # )\n",
    "        # st.altair_chart(chart, use_container_width=True)\n",
    "except URLError as e:\n",
    "    st.error(\n",
    "        \"\"\"\n",
    "        **This demo requires internet access.**\n",
    "        Connection error: %s\n",
    "    \"\"\"\n",
    "        % e.reason\n",
    "    )\n"
   ]
  },
  {
   "cell_type": "code",
   "execution_count": null,
   "id": "a8e87ebf-167d-4323-86ab-00cb9865010b",
   "metadata": {},
   "outputs": [],
   "source": []
  },
  {
   "cell_type": "code",
   "execution_count": null,
   "id": "e3ec8385-12ff-427c-9a11-1fcd1d36445f",
   "metadata": {},
   "outputs": [],
   "source": []
  }
 ],
 "metadata": {
  "kernelspec": {
   "display_name": "Python 3 (ipykernel)",
   "language": "python",
   "name": "python3"
  },
  "language_info": {
   "codemirror_mode": {
    "name": "ipython",
    "version": 3
   },
   "file_extension": ".py",
   "mimetype": "text/x-python",
   "name": "python",
   "nbconvert_exporter": "python",
   "pygments_lexer": "ipython3",
   "version": "3.11.5"
  }
 },
 "nbformat": 4,
 "nbformat_minor": 5
}
